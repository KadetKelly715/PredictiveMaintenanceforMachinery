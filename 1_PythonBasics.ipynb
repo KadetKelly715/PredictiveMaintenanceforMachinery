{
 "cells": [
  {
   "cell_type": "code",
   "execution_count": 1,
   "metadata": {},
   "outputs": [
    {
     "name": "stdout",
     "output_type": "stream",
     "text": [
      "Welcome to the CNC Machine Predictive Maintenance System!\n",
      "<class 'str'>\n"
     ]
    }
   ],
   "source": [
    "# SUBPROJECT 1 - PYTHON BASICS\n",
    "## OBJECTIVE: Use basic techniques to build the foundation for the\n",
    "## predictive maintenance system\n",
    "\n",
    "# A print statement to welcome users to the program\n",
    "print('Welcome to the CNC Machine Predictive Maintenance System!')\n",
    "print(type('h'))"
   ]
  },
  {
   "cell_type": "code",
   "execution_count": 2,
   "metadata": {},
   "outputs": [],
   "source": [
    "# The ultimate goal is to have the system to pull and interpret the\n",
    "# data iteself - for now, using an input asking for the data\n",
    "\n",
    "temperature = input('Enter the current meter temperature (in degrees):/n')\n",
    "\n",
    "# Creating a layer of protection against the input being a non-number input\n",
    "\n",
    "try:\n",
    "    temperature = float(temperature)\n",
    "except ValueError:\n",
    "    print('Invalid input! Please enter a numeric value for the temperature')\n"
   ]
  },
  {
   "cell_type": "code",
   "execution_count": 3,
   "metadata": {},
   "outputs": [
    {
     "name": "stdout",
     "output_type": "stream",
     "text": [
      "The temperature is within the acceptable window.\n"
     ]
    }
   ],
   "source": [
    "# Using a conditional statement to monitor the temperature of the CNC\n",
    "# Anything over 80 degrees --> Danger\n",
    "# Anything between 70 and 80 --> Needs Monitoring\n",
    "# Anything below 70 --> Normal Functioning\n",
    "\n",
    "if temperature >= 80:\n",
    "    print('DANGER: The temperature is at a critical level.')\n",
    "elif temperature >70 and temperature < 80:\n",
    "    print('WARNING: The temperature is nearing a critical level. Monitor carefully.')\n",
    "else:\n",
    "    print('The temperature is within the acceptable window.')\n",
    "\n"
   ]
  },
  {
   "cell_type": "code",
   "execution_count": 4,
   "metadata": {},
   "outputs": [
    {
     "name": "stdout",
     "output_type": "stream",
     "text": [
      "Motor: Operational\n",
      "Sensor: NEEDS MAINTENANCE\n",
      "Spindle: Operational\n",
      "Bearing: NEEDS MAINTENANCE\n",
      "Coolantsystem: Operational\n"
     ]
    }
   ],
   "source": [
    "# Creating a list of parts within the CNC Machine as well as a list that\n",
    "# includes the possible statuses\n",
    "## Ideally this will eventually pull operation status from the various parts iteself\n",
    "\n",
    "components = ['motor', 'sensor', 'spindle', 'bearing', 'coolantsystem']\n",
    "statuses = ['operational', 'needsmaintenance', 'operational', 'needsmaintenance', 'operational']\n",
    "\n",
    "# Creating a loop using zip that iterates through both lists to combine the \n",
    "# part with its corresponding status\n",
    "\n",
    "for component, status in zip(components, statuses):\n",
    "    if status == 'needsmaintenance':\n",
    "        status = 'NEEDS MAINTENANCE'\n",
    "    else: \n",
    "        status = 'Operational'\n",
    "    print(component.capitalize() + ':', status)\n",
    "\n"
   ]
  },
  {
   "cell_type": "code",
   "execution_count": null,
   "metadata": {},
   "outputs": [],
   "source": []
  }
 ],
 "metadata": {
  "kernelspec": {
   "display_name": "venv",
   "language": "python",
   "name": "python3"
  },
  "language_info": {
   "codemirror_mode": {
    "name": "ipython",
    "version": 3
   },
   "file_extension": ".py",
   "mimetype": "text/x-python",
   "name": "python",
   "nbconvert_exporter": "python",
   "pygments_lexer": "ipython3",
   "version": "3.11.7"
  }
 },
 "nbformat": 4,
 "nbformat_minor": 2
}
